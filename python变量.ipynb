{
 "cells": [
  {
   "cell_type": "markdown",
   "metadata": {},
   "source": [
    "# 字符串\n",
    " ## 转义字符\n",
    "   - 解释：用特殊的方法表示出一系列不方便的内容，比如回车键，换行键，退格键\n",
    "   - 用法：借助反斜杠字符，一旦字符出现反斜杠，则反斜杠后面一个或几个字符表示已经不是原来的意思了，进行转义"
   ]
  },
  {
   "cell_type": "code",
   "execution_count": 11,
   "metadata": {},
   "outputs": [
    {
     "name": "stdout",
     "output_type": "stream",
     "text": [
      " ewfd gred hgrte \n",
      "Let's go\n",
      "Let's go\n",
      "C:\\user\n",
      "I love \r\n",
      " you\n"
     ]
    }
   ],
   "source": [
    "s = \" ewfd gred hgrte \"\n",
    "print(s)\n",
    "\n",
    "#1.可以使用嵌套引号，即外层使用双层引号\n",
    "s = \"Let's go\"\n",
    "print(s)\n",
    "\n",
    "#2.转义字符\n",
    "s = 'Let\\'s go'\n",
    "print(s)\n",
    "\n",
    "#\\\\=\\\n",
    "s = 'C:\\\\user'\n",
    "print(s)\n",
    "\n",
    "#换行符 Linux:\\r\\n  windows:\\n\n",
    "s = \"I love \\r\\n you\"\n",
    "print(s)"
   ]
  },
  {
   "cell_type": "markdown",
   "metadata": {},
   "source": [
    "## 字符串的格式化\n",
    " - 把字符串按照一定格式打印或者填充\n",
    " - 格式化有两种方法\n",
    "    - 利用百分号（%）\n",
    "    - 利用fromat函数"
   ]
  },
  {
   "cell_type": "code",
   "execution_count": 12,
   "metadata": {
    "collapsed": true
   },
   "outputs": [],
   "source": [
    "s = \"xxx 您好！，欢迎使用python。\""
   ]
  },
  {
   "cell_type": "markdown",
   "metadata": {},
   "source": [
    "### 利用百分号格式化\n",
    "  - 在字符串中，利用%表示一个特殊的含义，表示对字符进行格式化\n",
    "  - %d:此处应该放入一个整数\n",
    "  - %s:表示此处应该放入一个字符串"
   ]
  },
  {
   "cell_type": "code",
   "execution_count": 14,
   "metadata": {},
   "outputs": [
    {
     "name": "stdout",
     "output_type": "stream",
     "text": [
      "I  love %s\n"
     ]
    }
   ],
   "source": [
    "s = \"I  love %s\"\n",
    "#直接把%s作为字符串打印出来了\n",
    "print(s)"
   ]
  },
  {
   "cell_type": "code",
   "execution_count": 16,
   "metadata": {},
   "outputs": [
    {
     "name": "stdout",
     "output_type": "stream",
     "text": [
      "I Love adsef\n"
     ]
    }
   ],
   "source": [
    "print(\"I Love %s\" % \"adsef\")"
   ]
  },
  {
   "cell_type": "code",
   "execution_count": 19,
   "metadata": {},
   "outputs": [
    {
     "name": "stdout",
     "output_type": "stream",
     "text": [
      "I  love egfewsg\n"
     ]
    }
   ],
   "source": [
    "#打印14的内容\n",
    "print(s%\"egfewsg\")"
   ]
  },
  {
   "cell_type": "code",
   "execution_count": 22,
   "metadata": {},
   "outputs": [
    {
     "name": "stdout",
     "output_type": "stream",
     "text": [
      "I am %d years old\n",
      "I am 18 years old\n"
     ]
    }
   ],
   "source": [
    "s = \"I am %d years old\"\n",
    "print(s)\n",
    "print(s%18)"
   ]
  },
  {
   "cell_type": "markdown",
   "metadata": {},
   "source": [
    "### format函数格式化字符串\n",
    "  - 直接用 format函数进行格式化\n",
    "  - 推荐使用，以{}和：代替%号，后面用format带参数完成"
   ]
  },
  {
   "cell_type": "code",
   "execution_count": 28,
   "metadata": {},
   "outputs": [
    {
     "name": "stdout",
     "output_type": "stream",
     "text": [
      "I Love you\n",
      "Yes,i am 18 years old,I love li and i am 18\n"
     ]
    }
   ],
   "source": [
    "s = \"I Love {}\".format(\"you\")\n",
    "print(s)\n",
    "#给{}编号\n",
    "s = \"Yes,i am {1} years old,I love {0} and i am {1}\".format(\"li\",18)\n",
    "print(s)"
   ]
  },
  {
   "cell_type": "markdown",
   "metadata": {},
   "source": [
    "## None\n",
    "  - 表示什么都没有\n",
    "  - 如果函数没有返回值，可以返回None ，用来占位\n",
    "  - 用来解除变量的绑定"
   ]
  },
  {
   "cell_type": "markdown",
   "metadata": {},
   "source": [
    "# 表达式\n",
    "  - 由一个或者几个数字或者变量组合成的一行代码\n",
    "  - 通常返回一个结果\n",
    "# 运算符\n",
    "  - 由一个以上的值经过变化得到的新值的过程叫运算符\n",
    "  - 用于运算的符号叫做运算符\n",
    "  - 运算符分类\n",
    "    - 算数运算符\n",
    "    - 比较或者关系运算符\n",
    "    - 赋值运算符\n",
    "    - 逻辑运算符\n",
    "    - 位运算\n",
    "    - 成员运算符\n",
    "    - 身份运算符"
   ]
  },
  {
   "cell_type": "markdown",
   "metadata": {},
   "source": [
    "## 算数运算符\n",
    "  - +，-，*，/，%\n",
    "  - // 表示取商\n",
    "  - **表示幂运算\n",
    "  - python没有自增长运算符"
   ]
  },
  {
   "cell_type": "code",
   "execution_count": 34,
   "metadata": {},
   "outputs": [
    {
     "name": "stdout",
     "output_type": "stream",
     "text": [
      "2\n",
      "27\n"
     ]
    }
   ],
   "source": [
    "a=9//4\n",
    "print(a)\n",
    "\n",
    "a = 3**3\n",
    "print(a)"
   ]
  },
  {
   "cell_type": "markdown",
   "metadata": {},
   "source": [
    "## 比较运算符\n",
    " - 对两个变量或者值进行比较的运算符，比较的结果是布尔值，即True/False\n",
    " - ==，等于号\n",
    " - !=不等于\n",
    " - >,大于；<,小于；>=,大于等于；<=小于等于"
   ]
  },
  {
   "cell_type": "code",
   "execution_count": 36,
   "metadata": {},
   "outputs": [
    {
     "name": "stdout",
     "output_type": "stream",
     "text": [
      "False\n"
     ]
    }
   ],
   "source": [
    "a  = 3**4\n",
    "#把计算结果放入b\n",
    "b = a==80\n",
    "print(b)"
   ]
  },
  {
   "cell_type": "markdown",
   "metadata": {},
   "source": [
    "## 赋值运算符\n",
    "   - =，等于；+=加等于；-=，减等于；等..\n",
    "   "
   ]
  },
  {
   "cell_type": "markdown",
   "metadata": {},
   "source": [
    "## 逻辑运算符\n",
    "  - 对布尔值进行计算的符号\n",
    "  - and 逻辑与\n",
    "  - or 逻辑或\n",
    "  - not 逻辑非\n",
    "  - python 中逻辑运算，没有异或运算\n",
    "  - 运算规则：\n",
    "    - and看做乘法，or看做加法\n",
    "    - True看做1，False看做0\n",
    "    - 则逻辑运算就能转换成整数数学运算\n",
    "    - 最后结果如果是0，则为False，否则为True\n",
    "  - 逻辑运算短路问题\n",
    "    - 逻辑运算式，按照运算顺序计算，一旦能够确定整个式子未来的值，则不再进行计算，直接返回"
   ]
  },
  {
   "cell_type": "code",
   "execution_count": 1,
   "metadata": {},
   "outputs": [
    {
     "name": "stdout",
     "output_type": "stream",
     "text": [
      "True\n"
     ]
    }
   ],
   "source": [
    "#逻辑运算案例\n",
    "a= True\n",
    "b= False\n",
    "c= True\n",
    "d = a and b or c\n",
    "print(d)"
   ]
  },
  {
   "cell_type": "markdown",
   "metadata": {},
   "source": [
    "# 成员运算符\n",
    "  - 用来检测某一个变量是否是另外一个变量的成员\n",
    "    - in\n",
    "    - not in"
   ]
  },
  {
   "cell_type": "code",
   "execution_count": 5,
   "metadata": {},
   "outputs": [
    {
     "name": "stdout",
     "output_type": "stream",
     "text": [
      "False\n",
      "True\n",
      "False\n"
     ]
    }
   ],
   "source": [
    "#案例\n",
    "l = [1,2,3,4,5]\n",
    "a=7\n",
    "b=a in l\n",
    "print(b)\n",
    "\n",
    "a=4\n",
    "b=a in l\n",
    "print(b)\n",
    "\n",
    "#not in\n",
    "\n",
    "print(a not in l )"
   ]
  },
  {
   "cell_type": "markdown",
   "metadata": {},
   "source": [
    "## 身份运算\n",
    " - is：用来检测两个变量是否是同一个变量\n",
    "   - 语法计算 var1 is var2\n",
    " - is not：连个变量不是同一个变量"
   ]
  },
  {
   "cell_type": "code",
   "execution_count": 7,
   "metadata": {},
   "outputs": [
    {
     "name": "stdout",
     "output_type": "stream",
     "text": [
      "True\n"
     ]
    }
   ],
   "source": [
    "a = 9\n",
    "b =9 \n",
    "print(a is b)"
   ]
  },
  {
   "cell_type": "markdown",
   "metadata": {},
   "source": [
    "## 运算符的优先级\n",
    "  - 永远记住，括号具有最高优先级\n",
    "  - 优先级表格\n",
    "  \n",
    "        ** 指数（最高优先级）\n",
    "        ~ + - 按位翻转，一元加号和减号（最后两个的方法名为 +@ 和 -@）\n",
    "        / % //  乘，除，取模和取整除\n",
    "        + - 加法减法\n",
    "        >> << 右移，左移云算符\n",
    "        & 位‘AND’\n",
    "        ^ | 位云算符\n",
    "        <= < > >= 比较运算符\n",
    "        <> == != 等于运算符\n",
    "        = %= /= //= -= += *= **= 赋值运算符\n",
    "        is  is not  身份运算符\n",
    "        in  not in  成员运算符\n",
    "        not or amd  逻辑运算符\n",
    "    "
   ]
  },
  {
   "cell_type": "markdown",
   "metadata": {},
   "source": [
    "# 程序结构\n",
    "  - 顺序 \n",
    "  - 分支\n",
    "  - 循环"
   ]
  }
 ],
 "metadata": {
  "kernelspec": {
   "display_name": "Python 3",
   "language": "python",
   "name": "python3"
  },
  "language_info": {
   "codemirror_mode": {
    "name": "ipython",
    "version": 3
   },
   "file_extension": ".py",
   "mimetype": "text/x-python",
   "name": "python",
   "nbconvert_exporter": "python",
   "pygments_lexer": "ipython3",
   "version": "3.6.2"
  }
 },
 "nbformat": 4,
 "nbformat_minor": 2
}
