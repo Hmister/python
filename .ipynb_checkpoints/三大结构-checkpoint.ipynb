{
 "cells": [
  {
   "cell_type": "markdown",
   "metadata": {},
   "source": [
    "# 三大结构\n",
    "  - 顺序\n",
    "  - 分支\n",
    "  - 循环"
   ]
  },
  {
   "cell_type": "markdown",
   "metadata": {},
   "source": [
    "# 分支\n",
    "  - 分支的基本语法\n",
    "  \n",
    "        if 条件表达式:\n",
    "           语句1\n",
    "           语句2\n",
    "           语句2\n",
    "           ......\n",
    "  - 条件表达式就是计算结果必须为布尔值的表达式\n",
    "  - 表达式后面的冒号不能少\n",
    "  - 注意if后面出现的语句，如果属于if语句块，则必须同一个缩进等级\n",
    "  - 条件表达式结果为True执行if后面的缩进的语句块"
   ]
  },
  {
   "cell_type": "code",
   "execution_count": 8,
   "metadata": {},
   "outputs": [
    {
     "name": "stdout",
     "output_type": "stream",
     "text": [
      "小孩\n",
      "不带你玩\n"
     ]
    }
   ],
   "source": [
    " #if语句练习\n",
    "# 如果age小于18，则打印信息\n",
    "age = 17\n",
    "if age < 18:\n",
    "    print(\"小孩\")\n",
    "    print(\"不带你玩\") "
   ]
  },
  {
   "cell_type": "code",
   "execution_count": 9,
   "metadata": {},
   "outputs": [
    {
     "name": "stdout",
     "output_type": "stream",
     "text": [
      "上车啦，老司机们\n"
     ]
    }
   ],
   "source": [
    "age = 19\n",
    "if age < 18:\n",
    "    print(\"小孩\")\n",
    "    print(\"不带你玩\")\n",
    "    \n",
    "print(\"上车啦，老司机们\")"
   ]
  },
  {
   "cell_type": "markdown",
   "metadata": {},
   "source": [
    "### 双向分支\n",
    "  - if ...else...语句\n",
    "           \n",
    "           if 条件表达式:\n",
    "               语句1\n",
    "               语句2\n",
    "               ...\n",
    "           else:\n",
    "               语句1\n",
    "               语句2\n",
    "               .....\n",
    "   - 双向分支有两个分支，当程序执行到if.....else.....语句的时候，一定会执行if或else中的一个，也仅执行一个\n",
    "   - 缩进问题，if和else一个层级，其余语句一个层级\n",
    "   \n",
    "           "
   ]
  },
  {
   "cell_type": "code",
   "execution_count": 4,
   "metadata": {},
   "outputs": [
    {
     "name": "stdout",
     "output_type": "stream",
     "text": [
      "请输入性别：男\n",
      "你输入的性别是：男\n",
      "来，我们来纪念一下今天吧，代码敲十遍\n",
      "开始上课\n"
     ]
    }
   ],
   "source": [
    "gender = input(\"请输入性别：\")\n",
    "print(\"你输入的性别是：{0}\".format(gender))\n",
    "\n",
    "if gender == \"男\":\n",
    "    print(\"来，我们来纪念一下今天吧，代码敲十遍\")\n",
    "else:\n",
    "    print(\"发糖啦\")\n",
    "        \n",
    "print(\"开始上课\")"
   ]
  },
  {
   "cell_type": "code",
   "execution_count": null,
   "metadata": {
    "collapsed": true
   },
   "outputs": [],
   "source": [
    "#考试成绩判断\n",
    "#90以上\n",
    "#80-90：良\n",
    "#70-80：中\n",
    "#60-70：平\n",
    "#60以下：差\n",
    "#input返回的是一个字符串\n",
    "\n",
    "score = input(\"请输入成绩:\")\n",
    "#str转int\n",
    "score = int(score)\n",
    "\n",
    "if score >= 90 :\n",
    "    print(\"A\")\n",
    "if score>=80 and score < 90:\n",
    "    print(\"B\")\n",
    "if score>=70 and score < 80:\n",
    "    print(\"C\")\n",
    "if score>=60 and score < 70:\n",
    "    print(\"D\") \n",
    "if score<60:\n",
    "    print(\"差\")    \n"
   ]
  },
  {
   "cell_type": "markdown",
   "metadata": {},
   "source": [
    "## 多路分支\n",
    "  - 很多分支的情况，简称多路分支\n",
    "  \n",
    "         if 条件表达式:\n",
    "             语句1\n",
    "             ....\n",
    "         elif 条件表达式:\n",
    "             语句1\n",
    "             .....\n",
    "         elif 条件表达式:\n",
    "             语句1\n",
    "             ....\n",
    "             \n",
    "         ......\n",
    "         else:\n",
    "             语句1\n",
    "             .....\n",
    "  - elif 可以有很多个\n",
    "  - else可选\n",
    "  - 多路分支只会选择一个\n",
    "  "
   ]
  },
  {
   "cell_type": "code",
   "execution_count": 10,
   "metadata": {},
   "outputs": [
    {
     "name": "stdout",
     "output_type": "stream",
     "text": [
      "请输入成绩:90\n",
      "A\n"
     ]
    }
   ],
   "source": [
    "#考试成绩判断\n",
    "#90以上\n",
    "#80-90：良\n",
    "#70-80：中\n",
    "#60-70：平\n",
    "#60以下：差\n",
    "#input返回的是一个字符串\n",
    "\n",
    "score = input(\"请输入成绩:\")\n",
    "#str转int\n",
    "score = int(score)\n",
    "\n",
    "if score >= 90 :\n",
    "    print(\"A\")\n",
    "elif score>=80:\n",
    "    print(\"B\")\n",
    "elif score>=70:\n",
    "    print(\"C\")\n",
    "elif score>=60:\n",
    "    print(\"D\") \n",
    "else:\n",
    "    print(\"差\")    \n"
   ]
  },
  {
   "cell_type": "markdown",
   "metadata": {},
   "source": [
    "## if语句其他\n",
    "  - if语句可以嵌套使用，但不推荐\n",
    "  - python没有switch-case语句"
   ]
  },
  {
   "cell_type": "markdown",
   "metadata": {},
   "source": [
    "# 循环语句\n",
    "  - 重复执行某些固定的动作或者处理基本固定的事物\n",
    "  - 分类\n",
    "    - for循环\n",
    "    - while循环\n",
    "## for循环\n",
    "  - for循环\n",
    "  \n",
    "        for 变量 in 序列:\n",
    "            语句1\n",
    "            语句2\n",
    "            ...."
   ]
  },
  {
   "cell_type": "code",
   "execution_count": 11,
   "metadata": {},
   "outputs": [
    {
     "name": "stdout",
     "output_type": "stream",
     "text": [
      "zahngshan\n",
      "lisi\n",
      "wangwu\n"
     ]
    }
   ],
   "source": [
    "#列表就是一列数字或者其他值，一般有中括号表示\n",
    "#例如 ['zahngshan','lisi','wangwu']\n",
    "\n",
    "#打印学生列表姓名\n",
    "for name in ['zahngshan','lisi','wangwu']:\n",
    "    print(name)"
   ]
  },
  {
   "cell_type": "code",
   "execution_count": 14,
   "metadata": {},
   "outputs": [
    {
     "name": "stdout",
     "output_type": "stream",
     "text": [
      "zahngshan\n",
      "同学你好，请自重\n",
      "lisi\n",
      "sdfsdgdrglisi\n",
      "wangwu\n",
      "同学你好，请自重\n"
     ]
    }
   ],
   "source": [
    "#列表就是一列数字或者其他值，一般有中括号表示\n",
    "#例如 ['zahngshan','lisi','wangwu'] \n",
    "for name in ['zahngshan','lisi','wangwu']:\n",
    "    print(name)\n",
    "    if name =='lisi':\n",
    "        print(\"sdfsdgdrg{0}\".format(name))\n",
    "    else:\n",
    "        print(\"同学你好，请自重\")"
   ]
  },
  {
   "cell_type": "markdown",
   "metadata": {},
   "source": [
    "## range介绍\n",
    "  - 生成一个数字序列\n",
    "  - 具体范围可以设定"
   ]
  },
  {
   "cell_type": "code",
   "execution_count": 17,
   "metadata": {},
   "outputs": [
    {
     "name": "stdout",
     "output_type": "stream",
     "text": [
      "1\n",
      "2\n",
      "3\n",
      "4\n",
      "5\n",
      "6\n",
      "7\n",
      "8\n",
      "9\n",
      "10\n"
     ]
    }
   ],
   "source": [
    "#range训练\n",
    "#打印1-10的数字\n",
    "#一般在python中，如果有表示数字范围的两个数，一般是包含左边数字不包含右边的数字\n",
    "#randint是一个特例，他左右包含\n",
    "#range 在python2中python3中有严重区别\n",
    "for i in range(1,11):\n",
    "    print(i)"
   ]
  },
  {
   "cell_type": "markdown",
   "metadata": {},
   "source": [
    "## for - else语句\n",
    "  - 当for循环结束的时候，会执行else语句\n",
    "  - else语句是可选语句"
   ]
  },
  {
   "cell_type": "code",
   "execution_count": 18,
   "metadata": {},
   "outputs": [
    {
     "name": "stdout",
     "output_type": "stream",
     "text": [
      "zahngshan\n",
      "同学你好，请自重\n",
      "lisi\n",
      "你好lisi\n",
      "wangwu\n",
      "同学你好，请自重\n",
      "不在了\n"
     ]
    }
   ],
   "source": [
    "#for - else语句\n",
    "#打印列表中的同学\n",
    "#如果没有在列表中，或者列表结束了，我们需要打印提示语句，\n",
    "\n",
    "for name in ['zahngshan','lisi','wangwu']:\n",
    "    print(name)\n",
    "    if name =='lisi':\n",
    "        print(\"你好{0}\".format(name))\n",
    "    else:\n",
    "        print(\"同学你好，请自重\")\n",
    "else: \n",
    "    print(\"不在了\")"
   ]
  },
  {
   "cell_type": "markdown",
   "metadata": {},
   "source": [
    "## 循环之break，continue，pass\n",
    "  - Break：无条件结束整个循环，简称循环猝死\n",
    "  - continue：无条件结束本次循环，重新开始下一轮循环\n",
    "  - pass：表示忽略"
   ]
  },
  {
   "cell_type": "code",
   "execution_count": 21,
   "metadata": {},
   "outputs": [
    {
     "name": "stdout",
     "output_type": "stream",
     "text": [
      "1\n",
      "2\n",
      "3\n",
      "4\n",
      "5\n",
      "6\n",
      "找到7\n"
     ]
    }
   ],
   "source": [
    "#在1-10的数字中，寻找数字7，一旦找到，打印出来，其余则什么都不做\n",
    "#for 循环中的变量表示，一般用 i，k，m，n，或者index。idx，item之类的\n",
    "#在python中，如果循环变量不重要，可以用下划线代替\n",
    "\n",
    "for i in range(1,11):\n",
    "    if i ==7:\n",
    "        print(\"找到7\")\n",
    "        break\n",
    "    else:\n",
    "        print(i)\n",
    "    "
   ]
  },
  {
   "cell_type": "code",
   "execution_count": 30,
   "metadata": {},
   "outputs": [
    {
     "name": "stdout",
     "output_type": "stream",
     "text": [
      "2\n",
      "4\n",
      "6\n",
      "8\n",
      "10\n",
      "2\n",
      "4\n",
      "6\n",
      "8\n",
      "10\n",
      "2\n",
      "4\n",
      "6\n",
      "8\n",
      "10\n"
     ]
    }
   ],
   "source": [
    "#在1-10的数字中，寻找偶数，打印出来\n",
    "for i in range(1,11):\n",
    "    if i %2==1:\n",
    "        continue\n",
    "    else:\n",
    "        print(i)\n",
    "\n",
    "#第二种\n",
    "#在1-10的数字中，寻找偶数，打印出来\n",
    "for i in range(1,11):\n",
    "    if i %2==0:\n",
    "         print(i)\n",
    "\n",
    "#第三种写法\n",
    "for i in range(1,11):\n",
    "    if i %2==1:\n",
    "        continue\n",
    "    print(i)\n",
    "\n",
    "        \n",
    "#pass例子，一般用于占位\n",
    "#pass没有跳过功能\n",
    "\n",
    "for i in range(1,11):\n",
    "    pass"
   ]
  },
  {
   "cell_type": "code",
   "execution_count": null,
   "metadata": {},
   "outputs": [],
   "source": [
    "\n",
    "   \n",
    "       "
   ]
  }
 ],
 "metadata": {
  "kernelspec": {
   "display_name": "Python 3",
   "language": "python",
   "name": "python3"
  },
  "language_info": {
   "codemirror_mode": {
    "name": "ipython",
    "version": 3
   },
   "file_extension": ".py",
   "mimetype": "text/x-python",
   "name": "python",
   "nbconvert_exporter": "python",
   "pygments_lexer": "ipython3",
   "version": "3.6.2"
  }
 },
 "nbformat": 4,
 "nbformat_minor": 2
}
