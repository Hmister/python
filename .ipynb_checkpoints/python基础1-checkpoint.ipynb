{
 "cells": [
  {
   "cell_type": "code",
   "execution_count": 1,
   "metadata": {},
   "outputs": [
    {
     "name": "stdout",
     "output_type": "stream",
     "text": [
      "155\n"
     ]
    },
    {
     "data": {
      "text/plain": [
       "'\\n这就是块注释\\n'"
      ]
     },
     "execution_count": 1,
     "metadata": {},
     "output_type": "execute_result"
    }
   ],
   "source": [
    "#这就是行注释\n",
    "print('155')\n",
    "'''\n",
    "这就是块注释\n",
    "'''"
   ]
  },
  {
   "cell_type": "markdown",
   "metadata": {},
   "source": [
    "# 注释\n",
    " - 行注释：#\n",
    " - 块注释：''' '''"
   ]
  },
  {
   "cell_type": "markdown",
   "metadata": {},
   "source": [
    "# 变量\n",
    "- 变量命名的规则\n",
    "  - 变量命名可以包含数字，大小写字母，下划线或者更多，但是不推荐前三种内容之外的符号\n",
    "  - 数字不可以开头\n",
    "  - 一般python中，以下划线开头的内容具有特殊意义，不建议使用\n",
    "  - 大小写意义不一样\n",
    "  - 推荐：\n",
    "     - 使用具有固定含义的英文单词或者缩写\n",
    "     - 驼峰命名法\n",
    "        - 名称以单词自动连接，且每个单词首字母大写\n",
    "           - 大驼峰，每个单词第一个字母大写\n",
    "              - 在python中给类命名使用此法\n",
    "              - FirstLove\n",
    "           - 小驼峰，类似大驼峰，但第一个字母小写\n",
    "              - 在python中一般给普通变量或者函数命名\n",
    "              - myFirstLove\n",
    "           - posix写法\n",
    "              - 多个单词连接用下划线连接\n",
    "              - 单词全部小写\n",
    "              - my_first_love\n",
    "   - 保留字和关键字\n",
    "     - clss，def，break，for..变量名避开\n",
    "              "
   ]
  },
  {
   "cell_type": "code",
   "execution_count": 2,
   "metadata": {},
   "outputs": [
    {
     "name": "stdout",
     "output_type": "stream",
     "text": [
      "['False', 'None', 'True', 'and', 'as', 'assert', 'break', 'class', 'continue', 'def', 'del', 'elif', 'else', 'except', 'finally', 'for', 'from', 'global', 'if', 'import', 'in', 'is', 'lambda', 'nonlocal', 'not', 'or', 'pass', 'raise', 'return', 'try', 'while', 'with', 'yield']\n"
     ]
    }
   ],
   "source": [
    "#查看关键字的方法\n",
    "import keyword #引入关键字模块\n",
    "#打印关键字\n",
    "print(keyword.kwlist)"
   ]
  },
  {
   "cell_type": "markdown",
   "metadata": {},
   "source": [
    "## 变量声明\n",
    " - var_name = var_value\n",
    " - var1 = var2 = var3 = var_value\n",
    " - var1,var2 ,var3 = var_value1,var_value2,var_value3"
   ]
  },
  {
   "cell_type": "code",
   "execution_count": 8,
   "metadata": {},
   "outputs": [
    {
     "name": "stdout",
     "output_type": "stream",
     "text": [
      "18 18 18\n",
      "121 12 13\n"
     ]
    }
   ],
   "source": [
    "age1 = age2 = age3 =18\n",
    "print(age1,age2,age3)\n",
    "age1,age2,age3=121,12,13\n",
    "print(age1,age2,age3)"
   ]
  },
  {
   "cell_type": "markdown",
   "metadata": {},
   "source": [
    "## 变量类型\n",
    "  - 严格讲python只有一个类型\n",
    "  - 标准数据一共有六种\n",
    "    - 数字类型Number\n",
    "    - 字符串类型str\n",
    "    - 列表list\n",
    "    - 元组tuple\n",
    "    - 字典 Dictionary\n",
    "    - 集合 set\n",
    "    "
   ]
  },
  {
   "cell_type": "code",
   "execution_count": 6,
   "metadata": {},
   "outputs": [
    {
     "name": "stdout",
     "output_type": "stream",
     "text": [
      "15\n",
      "3\n",
      "66\n",
      "255\n",
      "0.2\n",
      "0.3\n"
     ]
    }
   ],
   "source": [
    "#整数赋值，常用十进制\n",
    "age = 15\n",
    "print(age)\n",
    "#二进制以0b开头\n",
    "age = 0b11\n",
    "print(age)\n",
    "#八进制以0o开头\n",
    "age = 0o102\n",
    "print(age)\n",
    "#十六进制以0x开头\n",
    "age = 0xff  #ff表示二进制1111 1111\n",
    "print(age)\n",
    "\n",
    "#小数赋值省略前面的零\n",
    "shili = 0.2\n",
    "print(shili)\n",
    "shili = .3\n",
    "print(shili)\n",
    "#科学计数法\n",
    "#写法是用E/e后面跟整数表示10的指数\n",
    " # - 0.876==8.76e-1\n",
    "#  - 176.23==1.7634e2\n"
   ]
  },
  {
   "cell_type": "code",
   "execution_count": null,
   "metadata": {
    "collapsed": true
   },
   "outputs": [],
   "source": []
  }
 ],
 "metadata": {
  "kernelspec": {
   "display_name": "Python 3",
   "language": "python",
   "name": "python3"
  },
  "language_info": {
   "codemirror_mode": {
    "name": "ipython",
    "version": 3
   },
   "file_extension": ".py",
   "mimetype": "text/x-python",
   "name": "python",
   "nbconvert_exporter": "python",
   "pygments_lexer": "ipython3",
   "version": "3.6.2"
  }
 },
 "nbformat": 4,
 "nbformat_minor": 2
}
